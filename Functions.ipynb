{
 "cells": [
  {
   "cell_type": "code",
   "execution_count": 1,
   "metadata": {},
   "outputs": [],
   "source": [
    "# Function Samples\n",
    "def calculator():\n",
    "    a=input(\"Enter a:\")\n",
    "    b=input(\"Enter b:\")\n",
    "    if a>b:\n",
    "        print(1)\n",
    "    else:\n",
    "        print(2)"
   ]
  },
  {
   "cell_type": "code",
   "execution_count": 2,
   "metadata": {},
   "outputs": [
    {
     "name": "stdout",
     "output_type": "stream",
     "text": [
      "Enter a:10\n",
      "Enter b:20\n",
      "2\n"
     ]
    }
   ],
   "source": [
    "calculator()"
   ]
  },
  {
   "cell_type": "code",
   "execution_count": 3,
   "metadata": {},
   "outputs": [],
   "source": [
    "def sequenceNumber(v2):\n",
    "    return 2*v2\n"
   ]
  },
  {
   "cell_type": "code",
   "execution_count": 4,
   "metadata": {},
   "outputs": [
    {
     "data": {
      "text/plain": [
       "20"
      ]
     },
     "execution_count": 4,
     "metadata": {},
     "output_type": "execute_result"
    }
   ],
   "source": [
    "sequenceNumber(10)"
   ]
  },
  {
   "cell_type": "code",
   "execution_count": 5,
   "metadata": {},
   "outputs": [],
   "source": [
    "b=sequenceNumber(4)"
   ]
  },
  {
   "cell_type": "code",
   "execution_count": 6,
   "metadata": {},
   "outputs": [
    {
     "data": {
      "text/plain": [
       "8"
      ]
     },
     "execution_count": 6,
     "metadata": {},
     "output_type": "execute_result"
    }
   ],
   "source": [
    "b\n"
   ]
  },
  {
   "cell_type": "code",
   "execution_count": 7,
   "metadata": {},
   "outputs": [
    {
     "ename": "TypeError",
     "evalue": "sequenceNumber() missing 1 required positional argument: 'v2'",
     "output_type": "error",
     "traceback": [
      "\u001b[1;31m---------------------------------------------------------------------------\u001b[0m",
      "\u001b[1;31mTypeError\u001b[0m                                 Traceback (most recent call last)",
      "\u001b[1;32m<ipython-input-7-80372a58bde1>\u001b[0m in \u001b[0;36m<module>\u001b[1;34m()\u001b[0m\n\u001b[1;32m----> 1\u001b[1;33m \u001b[0md\u001b[0m\u001b[1;33m=\u001b[0m\u001b[0msequenceNumber\u001b[0m\u001b[1;33m(\u001b[0m\u001b[1;33m)\u001b[0m\u001b[1;33m\u001b[0m\u001b[0m\n\u001b[0m",
      "\u001b[1;31mTypeError\u001b[0m: sequenceNumber() missing 1 required positional argument: 'v2'"
     ]
    }
   ],
   "source": [
    "d=sequenceNumber()"
   ]
  },
  {
   "cell_type": "code",
   "execution_count": 8,
   "metadata": {},
   "outputs": [],
   "source": [
    "def function3(x,y):\n",
    "    return x+y"
   ]
  },
  {
   "cell_type": "code",
   "execution_count": 9,
   "metadata": {},
   "outputs": [],
   "source": [
    "e=function3(2,3)"
   ]
  },
  {
   "cell_type": "code",
   "execution_count": 10,
   "metadata": {},
   "outputs": [
    {
     "data": {
      "text/plain": [
       "5"
      ]
     },
     "execution_count": 10,
     "metadata": {},
     "output_type": "execute_result"
    }
   ],
   "source": [
    "e"
   ]
  },
  {
   "cell_type": "code",
   "execution_count": 26,
   "metadata": {},
   "outputs": [],
   "source": [
    "def bmi_calculator(name,height_m,weight_kg):\n",
    "    bmi=weight_kg/(height_m**2)\n",
    "    print(\"bmi:\",bmi)    \n",
    "    if bmi<25:\n",
    "        return name +\" not over weight\"\n",
    "    else:\n",
    "        return name +\" is over weight\"\n",
    "    "
   ]
  },
  {
   "cell_type": "code",
   "execution_count": 22,
   "metadata": {},
   "outputs": [],
   "source": [
    "name=\"Mahesh\"\n",
    "height=2.5\n",
    "weight=160"
   ]
  },
  {
   "cell_type": "code",
   "execution_count": 28,
   "metadata": {},
   "outputs": [
    {
     "name": "stdout",
     "output_type": "stream",
     "text": [
      "bmi: 25.6\n"
     ]
    },
    {
     "data": {
      "text/plain": [
       "'Mahesh is over weight'"
      ]
     },
     "execution_count": 28,
     "metadata": {},
     "output_type": "execute_result"
    }
   ],
   "source": [
    "result=bmi_calculator(name,height,weight)\n",
    "result"
   ]
  },
  {
   "cell_type": "code",
   "execution_count": 9,
   "metadata": {},
   "outputs": [],
   "source": [
    "def bmi_calculator(name,height_m,weight_kg):\n",
    "    bmi=weight_kg/(height_m**2)\n",
    "    print(\"bmi:\",bmi)        \n",
    "    if bmi<=18.8:\n",
    "        print(name +\" you are thin! Eat more:)\")\n",
    "    elif bmi>=18.5 and bmi<=24.9:\n",
    "        print(name +\" you are normal:)\")\n",
    "    elif bmi>=25 and bmi<=29.9:\n",
    "        print(name +\" You should diet!\")\n",
    "    else:\n",
    "        print(name +\" You are obese! Be carreful!\")"
   ]
  },
  {
   "cell_type": "code",
   "execution_count": 4,
   "metadata": {},
   "outputs": [],
   "source": [
    "name=\"Mahesh\"\n",
    "height=2.5\n",
    "weight=160"
   ]
  },
  {
   "cell_type": "code",
   "execution_count": 5,
   "metadata": {},
   "outputs": [
    {
     "name": "stdout",
     "output_type": "stream",
     "text": [
      "bmi: 25.6\n",
      "You should diet!\n"
     ]
    }
   ],
   "source": [
    "result=bmi_calculator(name,height,weight)\n",
    "result"
   ]
  },
  {
   "cell_type": "code",
   "execution_count": 6,
   "metadata": {},
   "outputs": [
    {
     "name": "stdout",
     "output_type": "stream",
     "text": [
      "bmi: 25.6\n",
      "You should diet!\n"
     ]
    }
   ],
   "source": [
    "bmi_calculator(\"name\",2.5,160)"
   ]
  },
  {
   "cell_type": "code",
   "execution_count": 8,
   "metadata": {},
   "outputs": [
    {
     "name": "stdout",
     "output_type": "stream",
     "text": [
      "bmi: 25.6\n",
      "nameYou should diet!\n"
     ]
    }
   ],
   "source": [
    "bmi_calculator(\"name\",2.5,160)"
   ]
  },
  {
   "cell_type": "code",
   "execution_count": 11,
   "metadata": {},
   "outputs": [],
   "source": [
    "def bmi_calculator(name,height_m,weight_kg):    \n",
    "    bmi=weight_kg/(height_m**2)\n",
    "    print(\"bmi:\",bmi)        \n",
    "    if bmi<=18.8:\n",
    "        print(name +\" you are thin! Eat more:)\")\n",
    "    elif bmi>=18.5 and bmi<=24.9:\n",
    "        print(name +\" you are normal:)\")\n",
    "    elif bmi>=25 and bmi<=29.9:\n",
    "        print(name +\" You should diet!\")\n",
    "    else:\n",
    "        print(name +\" You are obese! Be carreful!\")"
   ]
  },
  {
   "cell_type": "code",
   "execution_count": 12,
   "metadata": {},
   "outputs": [
    {
     "name": "stdout",
     "output_type": "stream",
     "text": [
      "bmi: 25.6\n",
      "Deepak You should diet!\n"
     ]
    }
   ],
   "source": [
    "bmi_calculator(\"Deepak\",2.5,160)"
   ]
  },
  {
   "cell_type": "code",
   "execution_count": 13,
   "metadata": {},
   "outputs": [
    {
     "name": "stdout",
     "output_type": "stream",
     "text": [
      "bmi: 7.901234567901234\n",
      "Rajesh you are thin! Eat more:)\n"
     ]
    }
   ],
   "source": [
    "bmi_calculator(\"Rajesh\",4.5,160)"
   ]
  },
  {
   "cell_type": "code",
   "execution_count": 18,
   "metadata": {},
   "outputs": [],
   "source": [
    "def bmi_calculator(name,height_m,weight_kg):    \n",
    "    bmi=weight_kg/(height_m**2)\n",
    "    print(\"bmi:\",bmi)        \n",
    "    if bmi<18.5:\n",
    "        print(name +\" you are thin! Eat more:)\")\n",
    "    elif bmi>=18.5 and bmi<25:\n",
    "        print(name +\" you are normal:)\")\n",
    "    elif bmi>=25 and bmi<=29.9:\n",
    "        print(name +\" You should diet!\")\n",
    "    else:\n",
    "        print(name +\" You are obese! Be carreful!\")"
   ]
  },
  {
   "cell_type": "code",
   "execution_count": 15,
   "metadata": {},
   "outputs": [
    {
     "name": "stdout",
     "output_type": "stream",
     "text": [
      "bmi: 22.189349112426033\n",
      "Tejas you are normal:)\n"
     ]
    }
   ],
   "source": [
    "bmi_calculator(\"Tejas\",2.6,150)"
   ]
  },
  {
   "cell_type": "code",
   "execution_count": 19,
   "metadata": {},
   "outputs": [
    {
     "name": "stdout",
     "output_type": "stream",
     "text": [
      "bmi: 34.666666666666664\n",
      "Deepak You are obese! Be carreful!\n"
     ]
    }
   ],
   "source": [
    "bmi_calculator(\"Deepak\",1.5,78)"
   ]
  },
  {
   "cell_type": "code",
   "execution_count": 20,
   "metadata": {},
   "outputs": [
    {
     "name": "stdout",
     "output_type": "stream",
     "text": [
      "bmi: 21.258503401360546\n",
      "Tejas you are normal:)\n"
     ]
    }
   ],
   "source": [
    "bmi_calculator(\"Tejas\",1.68,60)"
   ]
  },
  {
   "cell_type": "code",
   "execution_count": 21,
   "metadata": {},
   "outputs": [
    {
     "name": "stdout",
     "output_type": "stream",
     "text": [
      "bmi: 24.61810377477591\n",
      "Deepak you are normal:)\n"
     ]
    }
   ],
   "source": [
    "bmi_calculator(\"Deepak\",1.78,78)"
   ]
  },
  {
   "cell_type": "code",
   "execution_count": null,
   "metadata": {},
   "outputs": [],
   "source": [
    "def bmi_calculator(name,height_m,weight_kg):    \n",
    "    bmi=weight_kg/(height_m**2)\n",
    "    print(\"bmi:\",bmi)        \n",
    "    if bmi<18.5:\n",
    "        print(name +\" you are thin! Eat more:)\")\n",
    "    elif bmi>=18.5 and bmi<25:\n",
    "        print(name +\" you are normal:)\")\n",
    "    elif bmi>=25 and bmi<=29.9:\n",
    "        print(name +\" You should diet!\")\n",
    "    else:\n",
    "        print(name +\" You are obese! Be carreful!\")"
   ]
  }
 ],
 "metadata": {
  "kernelspec": {
   "display_name": "Python 3",
   "language": "python",
   "name": "python3"
  },
  "language_info": {
   "codemirror_mode": {
    "name": "ipython",
    "version": 3
   },
   "file_extension": ".py",
   "mimetype": "text/x-python",
   "name": "python",
   "nbconvert_exporter": "python",
   "pygments_lexer": "ipython3",
   "version": "3.6.5"
  }
 },
 "nbformat": 4,
 "nbformat_minor": 2
}
